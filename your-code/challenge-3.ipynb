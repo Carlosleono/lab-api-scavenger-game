{
 "cells": [
  {
   "cell_type": "markdown",
   "id": "defensive-clock",
   "metadata": {},
   "source": [
    "# Challenge 3: Hidden Cold Joke\n",
    "\n",
    "Using Python, call Github API to find out the cold joke contained in the 24 secret files in the following repo:\n",
    "\n",
    "https://github.com/ironhack-datalabs/scavenger\n",
    "\n",
    "The filenames of the secret files contain .scavengerhunt and they are scattered in different directories of this repo. The secret files are named from .0001.scavengerhunt to .0024.scavengerhunt. They are scattered randomly throughout this repo. You need to search for these files by calling the Github API, not searching the local files on your computer.\n",
    "\n",
    "\n",
    "After you find out the secrete files:\n",
    "\n",
    "Sort the filenames ascendingly.\n",
    "\n",
    "Read the content of each secret files into an array of strings.\n",
    "\n",
    "Concatenate the strings in the array separating each two with a whitespace.\n",
    "\n",
    "Print out the joke."
   ]
  },
  {
   "cell_type": "markdown",
   "id": "universal-length",
   "metadata": {},
   "source": [
    "⚠️ **Remember to limit your output before submission**."
   ]
  },
  {
   "cell_type": "code",
   "execution_count": 1,
   "id": "toxic-trading",
   "metadata": {},
   "outputs": [
    {
     "data": {
      "text/plain": [
       "True"
      ]
     },
     "execution_count": 1,
     "metadata": {},
     "output_type": "execute_result"
    }
   ],
   "source": [
    "# Your code\n",
    "import os\n",
    "from dotenv import load_dotenv\n",
    "import json\n",
    "import requests\n",
    "import pandas as pd\n",
    "load_dotenv()  # take environment variables from .env."
   ]
  },
  {
   "cell_type": "code",
   "execution_count": 2,
   "id": "bfec9c0f",
   "metadata": {},
   "outputs": [],
   "source": [
    "token = os.getenv(\"github\")"
   ]
  },
  {
   "cell_type": "code",
   "execution_count": 5,
   "id": "157b136e",
   "metadata": {},
   "outputs": [],
   "source": [
    "parameters = {\"Authorization\": f\"token {token}\"}"
   ]
  },
  {
   "cell_type": "code",
   "execution_count": 22,
   "id": "4957cba2",
   "metadata": {},
   "outputs": [],
   "source": [
    "url =  'https://api.github.com/repos/ironhack-datalabs/scavenger/contents/15024/.0006.scavengerhunt'\n"
   ]
  },
  {
   "cell_type": "code",
   "execution_count": 23,
   "id": "fd2477a4",
   "metadata": {},
   "outputs": [],
   "source": [
    "scav = requests.get(url, headers=parameters).json()\n"
   ]
  },
  {
   "cell_type": "code",
   "execution_count": 55,
   "id": "1aabdd44",
   "metadata": {},
   "outputs": [],
   "source": [
    "joke = list(range(23));\n",
    "joke\n"
   ]
  },
  {
   "cell_type": "code",
   "execution_count": 46,
   "id": "3fb1a83b",
   "metadata": {},
   "outputs": [],
   "source": [
    "joke6 = scav['content']\n",
    "joke[5]=joke6"
   ]
  },
  {
   "cell_type": "code",
   "execution_count": 27,
   "id": "9a31572d",
   "metadata": {},
   "outputs": [],
   "source": [
    "url =  'https://api.github.com/repos/ironhack-datalabs/scavenger/contents'\n",
    "scav = requests.get(url, headers=parameters).json()"
   ]
  },
  {
   "cell_type": "code",
   "execution_count": 31,
   "id": "e12bfd62",
   "metadata": {},
   "outputs": [
    {
     "data": {
      "text/plain": [
       "{'name': '15534',\n",
       " 'path': '15534',\n",
       " 'sha': '5af6f2a7287e4191f39e55693fc1e9c8918d1d3a',\n",
       " 'size': 0,\n",
       " 'url': 'https://api.github.com/repos/ironhack-datalabs/scavenger/contents/15534?ref=master',\n",
       " 'html_url': 'https://github.com/ironhack-datalabs/scavenger/tree/master/15534',\n",
       " 'git_url': 'https://api.github.com/repos/ironhack-datalabs/scavenger/git/trees/5af6f2a7287e4191f39e55693fc1e9c8918d1d3a',\n",
       " 'download_url': None,\n",
       " 'type': 'dir',\n",
       " '_links': {'self': 'https://api.github.com/repos/ironhack-datalabs/scavenger/contents/15534?ref=master',\n",
       "  'git': 'https://api.github.com/repos/ironhack-datalabs/scavenger/git/trees/5af6f2a7287e4191f39e55693fc1e9c8918d1d3a',\n",
       "  'html': 'https://github.com/ironhack-datalabs/scavenger/tree/master/15534'}}"
      ]
     },
     "execution_count": 31,
     "metadata": {},
     "output_type": "execute_result"
    }
   ],
   "source": [
    "scav[2]"
   ]
  },
  {
   "cell_type": "code",
   "execution_count": 49,
   "id": "5afecd9f",
   "metadata": {},
   "outputs": [],
   "source": [
    "url =  'https://api.github.com/repos/ironhack-datalabs/scavenger/contents/15534'\n",
    "scav = requests.get(url, headers=parameters).json()\n"
   ]
  },
  {
   "cell_type": "code",
   "execution_count": 54,
   "id": "c64e7385",
   "metadata": {},
   "outputs": [],
   "source": [
    "scav\n",
    "#To se what's inside"
   ]
  },
  {
   "cell_type": "code",
   "execution_count": null,
   "id": "2366c846",
   "metadata": {},
   "outputs": [],
   "source": [
    "url =  'https://api.github.com/repos/ironhack-datalabs/scavenger/contents/15534/.0008.scavengerhunt'\n",
    "scav = requests.get(url, headers=parameters).json()"
   ]
  },
  {
   "cell_type": "code",
   "execution_count": 47,
   "id": "96d72244",
   "metadata": {},
   "outputs": [],
   "source": [
    "joke8 = scav['content']\n",
    "joke[7]=joke8\n"
   ]
  },
  {
   "cell_type": "code",
   "execution_count": 52,
   "id": "dc51107e",
   "metadata": {},
   "outputs": [],
   "source": [
    "url =  'https://api.github.com/repos/ironhack-datalabs/scavenger/contents/15534/.0012.scavengerhunt'\n",
    "scav = requests.get(url, headers=parameters).json()"
   ]
  },
  {
   "cell_type": "code",
   "execution_count": 53,
   "id": "dfe2f380",
   "metadata": {},
   "outputs": [],
   "source": [
    "joke[11]=scav['content']"
   ]
  },
  {
   "cell_type": "code",
   "execution_count": 57,
   "id": "b694b063",
   "metadata": {},
   "outputs": [
    {
     "data": {
      "text/plain": [
       "[{'name': '.gitignore',\n",
       "  'path': '.gitignore',\n",
       "  'sha': 'e43b0f988953ae3a84b00331d0ccf5f7d51cb3cf',\n",
       "  'size': 10,\n",
       "  'url': 'https://api.github.com/repos/ironhack-datalabs/scavenger/contents/.gitignore?ref=master',\n",
       "  'html_url': 'https://github.com/ironhack-datalabs/scavenger/blob/master/.gitignore',\n",
       "  'git_url': 'https://api.github.com/repos/ironhack-datalabs/scavenger/git/blobs/e43b0f988953ae3a84b00331d0ccf5f7d51cb3cf',\n",
       "  'download_url': 'https://raw.githubusercontent.com/ironhack-datalabs/scavenger/master/.gitignore',\n",
       "  'type': 'file',\n",
       "  '_links': {'self': 'https://api.github.com/repos/ironhack-datalabs/scavenger/contents/.gitignore?ref=master',\n",
       "   'git': 'https://api.github.com/repos/ironhack-datalabs/scavenger/git/blobs/e43b0f988953ae3a84b00331d0ccf5f7d51cb3cf',\n",
       "   'html': 'https://github.com/ironhack-datalabs/scavenger/blob/master/.gitignore'}},\n",
       " {'name': '15024',\n",
       "  'path': '15024',\n",
       "  'sha': '2945e51c87ad5da893c954afcf092f06343bbb7d',\n",
       "  'size': 0,\n",
       "  'url': 'https://api.github.com/repos/ironhack-datalabs/scavenger/contents/15024?ref=master',\n",
       "  'html_url': 'https://github.com/ironhack-datalabs/scavenger/tree/master/15024',\n",
       "  'git_url': 'https://api.github.com/repos/ironhack-datalabs/scavenger/git/trees/2945e51c87ad5da893c954afcf092f06343bbb7d',\n",
       "  'download_url': None,\n",
       "  'type': 'dir',\n",
       "  '_links': {'self': 'https://api.github.com/repos/ironhack-datalabs/scavenger/contents/15024?ref=master',\n",
       "   'git': 'https://api.github.com/repos/ironhack-datalabs/scavenger/git/trees/2945e51c87ad5da893c954afcf092f06343bbb7d',\n",
       "   'html': 'https://github.com/ironhack-datalabs/scavenger/tree/master/15024'}},\n",
       " {'name': '15534',\n",
       "  'path': '15534',\n",
       "  'sha': '5af6f2a7287e4191f39e55693fc1e9c8918d1d3a',\n",
       "  'size': 0,\n",
       "  'url': 'https://api.github.com/repos/ironhack-datalabs/scavenger/contents/15534?ref=master',\n",
       "  'html_url': 'https://github.com/ironhack-datalabs/scavenger/tree/master/15534',\n",
       "  'git_url': 'https://api.github.com/repos/ironhack-datalabs/scavenger/git/trees/5af6f2a7287e4191f39e55693fc1e9c8918d1d3a',\n",
       "  'download_url': None,\n",
       "  'type': 'dir',\n",
       "  '_links': {'self': 'https://api.github.com/repos/ironhack-datalabs/scavenger/contents/15534?ref=master',\n",
       "   'git': 'https://api.github.com/repos/ironhack-datalabs/scavenger/git/trees/5af6f2a7287e4191f39e55693fc1e9c8918d1d3a',\n",
       "   'html': 'https://github.com/ironhack-datalabs/scavenger/tree/master/15534'}},\n",
       " {'name': '17020',\n",
       "  'path': '17020',\n",
       "  'sha': '9c49f920aa4d9433fa99a5824128f0e6b90ec5f2',\n",
       "  'size': 0,\n",
       "  'url': 'https://api.github.com/repos/ironhack-datalabs/scavenger/contents/17020?ref=master',\n",
       "  'html_url': 'https://github.com/ironhack-datalabs/scavenger/tree/master/17020',\n",
       "  'git_url': 'https://api.github.com/repos/ironhack-datalabs/scavenger/git/trees/9c49f920aa4d9433fa99a5824128f0e6b90ec5f2',\n",
       "  'download_url': None,\n",
       "  'type': 'dir',\n",
       "  '_links': {'self': 'https://api.github.com/repos/ironhack-datalabs/scavenger/contents/17020?ref=master',\n",
       "   'git': 'https://api.github.com/repos/ironhack-datalabs/scavenger/git/trees/9c49f920aa4d9433fa99a5824128f0e6b90ec5f2',\n",
       "   'html': 'https://github.com/ironhack-datalabs/scavenger/tree/master/17020'}},\n",
       " {'name': '30351',\n",
       "  'path': '30351',\n",
       "  'sha': 'c488d7f64088c852e22067d48fdc64ee3670f3ba',\n",
       "  'size': 0,\n",
       "  'url': 'https://api.github.com/repos/ironhack-datalabs/scavenger/contents/30351?ref=master',\n",
       "  'html_url': 'https://github.com/ironhack-datalabs/scavenger/tree/master/30351',\n",
       "  'git_url': 'https://api.github.com/repos/ironhack-datalabs/scavenger/git/trees/c488d7f64088c852e22067d48fdc64ee3670f3ba',\n",
       "  'download_url': None,\n",
       "  'type': 'dir',\n",
       "  '_links': {'self': 'https://api.github.com/repos/ironhack-datalabs/scavenger/contents/30351?ref=master',\n",
       "   'git': 'https://api.github.com/repos/ironhack-datalabs/scavenger/git/trees/c488d7f64088c852e22067d48fdc64ee3670f3ba',\n",
       "   'html': 'https://github.com/ironhack-datalabs/scavenger/tree/master/30351'}},\n",
       " {'name': '40303',\n",
       "  'path': '40303',\n",
       "  'sha': '30193d9cf62b07bcbb6366513ff03596861f2d29',\n",
       "  'size': 0,\n",
       "  'url': 'https://api.github.com/repos/ironhack-datalabs/scavenger/contents/40303?ref=master',\n",
       "  'html_url': 'https://github.com/ironhack-datalabs/scavenger/tree/master/40303',\n",
       "  'git_url': 'https://api.github.com/repos/ironhack-datalabs/scavenger/git/trees/30193d9cf62b07bcbb6366513ff03596861f2d29',\n",
       "  'download_url': None,\n",
       "  'type': 'dir',\n",
       "  '_links': {'self': 'https://api.github.com/repos/ironhack-datalabs/scavenger/contents/40303?ref=master',\n",
       "   'git': 'https://api.github.com/repos/ironhack-datalabs/scavenger/git/trees/30193d9cf62b07bcbb6366513ff03596861f2d29',\n",
       "   'html': 'https://github.com/ironhack-datalabs/scavenger/tree/master/40303'}},\n",
       " {'name': '44639',\n",
       "  'path': '44639',\n",
       "  'sha': '22fc3d5c2db80822c351edb2248f3491c8ebda86',\n",
       "  'size': 0,\n",
       "  'url': 'https://api.github.com/repos/ironhack-datalabs/scavenger/contents/44639?ref=master',\n",
       "  'html_url': 'https://github.com/ironhack-datalabs/scavenger/tree/master/44639',\n",
       "  'git_url': 'https://api.github.com/repos/ironhack-datalabs/scavenger/git/trees/22fc3d5c2db80822c351edb2248f3491c8ebda86',\n",
       "  'download_url': None,\n",
       "  'type': 'dir',\n",
       "  '_links': {'self': 'https://api.github.com/repos/ironhack-datalabs/scavenger/contents/44639?ref=master',\n",
       "   'git': 'https://api.github.com/repos/ironhack-datalabs/scavenger/git/trees/22fc3d5c2db80822c351edb2248f3491c8ebda86',\n",
       "   'html': 'https://github.com/ironhack-datalabs/scavenger/tree/master/44639'}},\n",
       " {'name': '45525',\n",
       "  'path': '45525',\n",
       "  'sha': '6a4a88cd9084110c8646c3cfd84dfe96b300a4a7',\n",
       "  'size': 0,\n",
       "  'url': 'https://api.github.com/repos/ironhack-datalabs/scavenger/contents/45525?ref=master',\n",
       "  'html_url': 'https://github.com/ironhack-datalabs/scavenger/tree/master/45525',\n",
       "  'git_url': 'https://api.github.com/repos/ironhack-datalabs/scavenger/git/trees/6a4a88cd9084110c8646c3cfd84dfe96b300a4a7',\n",
       "  'download_url': None,\n",
       "  'type': 'dir',\n",
       "  '_links': {'self': 'https://api.github.com/repos/ironhack-datalabs/scavenger/contents/45525?ref=master',\n",
       "   'git': 'https://api.github.com/repos/ironhack-datalabs/scavenger/git/trees/6a4a88cd9084110c8646c3cfd84dfe96b300a4a7',\n",
       "   'html': 'https://github.com/ironhack-datalabs/scavenger/tree/master/45525'}},\n",
       " {'name': '47222',\n",
       "  'path': '47222',\n",
       "  'sha': 'c7001604cdadc2fe7b82e0f6996690718cac6941',\n",
       "  'size': 0,\n",
       "  'url': 'https://api.github.com/repos/ironhack-datalabs/scavenger/contents/47222?ref=master',\n",
       "  'html_url': 'https://github.com/ironhack-datalabs/scavenger/tree/master/47222',\n",
       "  'git_url': 'https://api.github.com/repos/ironhack-datalabs/scavenger/git/trees/c7001604cdadc2fe7b82e0f6996690718cac6941',\n",
       "  'download_url': None,\n",
       "  'type': 'dir',\n",
       "  '_links': {'self': 'https://api.github.com/repos/ironhack-datalabs/scavenger/contents/47222?ref=master',\n",
       "   'git': 'https://api.github.com/repos/ironhack-datalabs/scavenger/git/trees/c7001604cdadc2fe7b82e0f6996690718cac6941',\n",
       "   'html': 'https://github.com/ironhack-datalabs/scavenger/tree/master/47222'}},\n",
       " {'name': '47830',\n",
       "  'path': '47830',\n",
       "  'sha': 'f84882ad7560fd2b8c6a0867bc707ce9009ef288',\n",
       "  'size': 0,\n",
       "  'url': 'https://api.github.com/repos/ironhack-datalabs/scavenger/contents/47830?ref=master',\n",
       "  'html_url': 'https://github.com/ironhack-datalabs/scavenger/tree/master/47830',\n",
       "  'git_url': 'https://api.github.com/repos/ironhack-datalabs/scavenger/git/trees/f84882ad7560fd2b8c6a0867bc707ce9009ef288',\n",
       "  'download_url': None,\n",
       "  'type': 'dir',\n",
       "  '_links': {'self': 'https://api.github.com/repos/ironhack-datalabs/scavenger/contents/47830?ref=master',\n",
       "   'git': 'https://api.github.com/repos/ironhack-datalabs/scavenger/git/trees/f84882ad7560fd2b8c6a0867bc707ce9009ef288',\n",
       "   'html': 'https://github.com/ironhack-datalabs/scavenger/tree/master/47830'}},\n",
       " {'name': '49418',\n",
       "  'path': '49418',\n",
       "  'sha': '46bc658c09589d9023246b00e848ce97d30d4989',\n",
       "  'size': 0,\n",
       "  'url': 'https://api.github.com/repos/ironhack-datalabs/scavenger/contents/49418?ref=master',\n",
       "  'html_url': 'https://github.com/ironhack-datalabs/scavenger/tree/master/49418',\n",
       "  'git_url': 'https://api.github.com/repos/ironhack-datalabs/scavenger/git/trees/46bc658c09589d9023246b00e848ce97d30d4989',\n",
       "  'download_url': None,\n",
       "  'type': 'dir',\n",
       "  '_links': {'self': 'https://api.github.com/repos/ironhack-datalabs/scavenger/contents/49418?ref=master',\n",
       "   'git': 'https://api.github.com/repos/ironhack-datalabs/scavenger/git/trees/46bc658c09589d9023246b00e848ce97d30d4989',\n",
       "   'html': 'https://github.com/ironhack-datalabs/scavenger/tree/master/49418'}},\n",
       " {'name': '50896',\n",
       "  'path': '50896',\n",
       "  'sha': 'e47a7a35a19f80694587330c57d94e28d3b4c054',\n",
       "  'size': 0,\n",
       "  'url': 'https://api.github.com/repos/ironhack-datalabs/scavenger/contents/50896?ref=master',\n",
       "  'html_url': 'https://github.com/ironhack-datalabs/scavenger/tree/master/50896',\n",
       "  'git_url': 'https://api.github.com/repos/ironhack-datalabs/scavenger/git/trees/e47a7a35a19f80694587330c57d94e28d3b4c054',\n",
       "  'download_url': None,\n",
       "  'type': 'dir',\n",
       "  '_links': {'self': 'https://api.github.com/repos/ironhack-datalabs/scavenger/contents/50896?ref=master',\n",
       "   'git': 'https://api.github.com/repos/ironhack-datalabs/scavenger/git/trees/e47a7a35a19f80694587330c57d94e28d3b4c054',\n",
       "   'html': 'https://github.com/ironhack-datalabs/scavenger/tree/master/50896'}},\n",
       " {'name': '55417',\n",
       "  'path': '55417',\n",
       "  'sha': '636fa555a2ee752759144a268fd860feb2b6fd2d',\n",
       "  'size': 0,\n",
       "  'url': 'https://api.github.com/repos/ironhack-datalabs/scavenger/contents/55417?ref=master',\n",
       "  'html_url': 'https://github.com/ironhack-datalabs/scavenger/tree/master/55417',\n",
       "  'git_url': 'https://api.github.com/repos/ironhack-datalabs/scavenger/git/trees/636fa555a2ee752759144a268fd860feb2b6fd2d',\n",
       "  'download_url': None,\n",
       "  'type': 'dir',\n",
       "  '_links': {'self': 'https://api.github.com/repos/ironhack-datalabs/scavenger/contents/55417?ref=master',\n",
       "   'git': 'https://api.github.com/repos/ironhack-datalabs/scavenger/git/trees/636fa555a2ee752759144a268fd860feb2b6fd2d',\n",
       "   'html': 'https://github.com/ironhack-datalabs/scavenger/tree/master/55417'}},\n",
       " {'name': '55685',\n",
       "  'path': '55685',\n",
       "  'sha': 'a00a8148a88287508a867616d7063786d3d5d4ff',\n",
       "  'size': 0,\n",
       "  'url': 'https://api.github.com/repos/ironhack-datalabs/scavenger/contents/55685?ref=master',\n",
       "  'html_url': 'https://github.com/ironhack-datalabs/scavenger/tree/master/55685',\n",
       "  'git_url': 'https://api.github.com/repos/ironhack-datalabs/scavenger/git/trees/a00a8148a88287508a867616d7063786d3d5d4ff',\n",
       "  'download_url': None,\n",
       "  'type': 'dir',\n",
       "  '_links': {'self': 'https://api.github.com/repos/ironhack-datalabs/scavenger/contents/55685?ref=master',\n",
       "   'git': 'https://api.github.com/repos/ironhack-datalabs/scavenger/git/trees/a00a8148a88287508a867616d7063786d3d5d4ff',\n",
       "   'html': 'https://github.com/ironhack-datalabs/scavenger/tree/master/55685'}},\n",
       " {'name': '60224',\n",
       "  'path': '60224',\n",
       "  'sha': '28d70fba98bfacfaa5e5544b2eff6b61c9e8f57b',\n",
       "  'size': 0,\n",
       "  'url': 'https://api.github.com/repos/ironhack-datalabs/scavenger/contents/60224?ref=master',\n",
       "  'html_url': 'https://github.com/ironhack-datalabs/scavenger/tree/master/60224',\n",
       "  'git_url': 'https://api.github.com/repos/ironhack-datalabs/scavenger/git/trees/28d70fba98bfacfaa5e5544b2eff6b61c9e8f57b',\n",
       "  'download_url': None,\n",
       "  'type': 'dir',\n",
       "  '_links': {'self': 'https://api.github.com/repos/ironhack-datalabs/scavenger/contents/60224?ref=master',\n",
       "   'git': 'https://api.github.com/repos/ironhack-datalabs/scavenger/git/trees/28d70fba98bfacfaa5e5544b2eff6b61c9e8f57b',\n",
       "   'html': 'https://github.com/ironhack-datalabs/scavenger/tree/master/60224'}},\n",
       " {'name': '64880',\n",
       "  'path': '64880',\n",
       "  'sha': '88b159d6f73378e6968bb35ccfd8e3ad0cc462d2',\n",
       "  'size': 0,\n",
       "  'url': 'https://api.github.com/repos/ironhack-datalabs/scavenger/contents/64880?ref=master',\n",
       "  'html_url': 'https://github.com/ironhack-datalabs/scavenger/tree/master/64880',\n",
       "  'git_url': 'https://api.github.com/repos/ironhack-datalabs/scavenger/git/trees/88b159d6f73378e6968bb35ccfd8e3ad0cc462d2',\n",
       "  'download_url': None,\n",
       "  'type': 'dir',\n",
       "  '_links': {'self': 'https://api.github.com/repos/ironhack-datalabs/scavenger/contents/64880?ref=master',\n",
       "   'git': 'https://api.github.com/repos/ironhack-datalabs/scavenger/git/trees/88b159d6f73378e6968bb35ccfd8e3ad0cc462d2',\n",
       "   'html': 'https://github.com/ironhack-datalabs/scavenger/tree/master/64880'}},\n",
       " {'name': '66032',\n",
       "  'path': '66032',\n",
       "  'sha': '0230fa6fa1ccf49ab976fbbfc9eb838094779785',\n",
       "  'size': 0,\n",
       "  'url': 'https://api.github.com/repos/ironhack-datalabs/scavenger/contents/66032?ref=master',\n",
       "  'html_url': 'https://github.com/ironhack-datalabs/scavenger/tree/master/66032',\n",
       "  'git_url': 'https://api.github.com/repos/ironhack-datalabs/scavenger/git/trees/0230fa6fa1ccf49ab976fbbfc9eb838094779785',\n",
       "  'download_url': None,\n",
       "  'type': 'dir',\n",
       "  '_links': {'self': 'https://api.github.com/repos/ironhack-datalabs/scavenger/contents/66032?ref=master',\n",
       "   'git': 'https://api.github.com/repos/ironhack-datalabs/scavenger/git/trees/0230fa6fa1ccf49ab976fbbfc9eb838094779785',\n",
       "   'html': 'https://github.com/ironhack-datalabs/scavenger/tree/master/66032'}},\n",
       " {'name': '68848',\n",
       "  'path': '68848',\n",
       "  'sha': 'ed2f90be6835e7e74c283aedba1942b788754d32',\n",
       "  'size': 0,\n",
       "  'url': 'https://api.github.com/repos/ironhack-datalabs/scavenger/contents/68848?ref=master',\n",
       "  'html_url': 'https://github.com/ironhack-datalabs/scavenger/tree/master/68848',\n",
       "  'git_url': 'https://api.github.com/repos/ironhack-datalabs/scavenger/git/trees/ed2f90be6835e7e74c283aedba1942b788754d32',\n",
       "  'download_url': None,\n",
       "  'type': 'dir',\n",
       "  '_links': {'self': 'https://api.github.com/repos/ironhack-datalabs/scavenger/contents/68848?ref=master',\n",
       "   'git': 'https://api.github.com/repos/ironhack-datalabs/scavenger/git/trees/ed2f90be6835e7e74c283aedba1942b788754d32',\n",
       "   'html': 'https://github.com/ironhack-datalabs/scavenger/tree/master/68848'}},\n",
       " {'name': '70751',\n",
       "  'path': '70751',\n",
       "  'sha': 'a5d9391003b67cecf3c336398ec38cfa75a689b7',\n",
       "  'size': 0,\n",
       "  'url': 'https://api.github.com/repos/ironhack-datalabs/scavenger/contents/70751?ref=master',\n",
       "  'html_url': 'https://github.com/ironhack-datalabs/scavenger/tree/master/70751',\n",
       "  'git_url': 'https://api.github.com/repos/ironhack-datalabs/scavenger/git/trees/a5d9391003b67cecf3c336398ec38cfa75a689b7',\n",
       "  'download_url': None,\n",
       "  'type': 'dir',\n",
       "  '_links': {'self': 'https://api.github.com/repos/ironhack-datalabs/scavenger/contents/70751?ref=master',\n",
       "   'git': 'https://api.github.com/repos/ironhack-datalabs/scavenger/git/trees/a5d9391003b67cecf3c336398ec38cfa75a689b7',\n",
       "   'html': 'https://github.com/ironhack-datalabs/scavenger/tree/master/70751'}},\n",
       " {'name': '70985',\n",
       "  'path': '70985',\n",
       "  'sha': 'd1a654c5811f52ec8a101652b0a04367644eab99',\n",
       "  'size': 0,\n",
       "  'url': 'https://api.github.com/repos/ironhack-datalabs/scavenger/contents/70985?ref=master',\n",
       "  'html_url': 'https://github.com/ironhack-datalabs/scavenger/tree/master/70985',\n",
       "  'git_url': 'https://api.github.com/repos/ironhack-datalabs/scavenger/git/trees/d1a654c5811f52ec8a101652b0a04367644eab99',\n",
       "  'download_url': None,\n",
       "  'type': 'dir',\n",
       "  '_links': {'self': 'https://api.github.com/repos/ironhack-datalabs/scavenger/contents/70985?ref=master',\n",
       "   'git': 'https://api.github.com/repos/ironhack-datalabs/scavenger/git/trees/d1a654c5811f52ec8a101652b0a04367644eab99',\n",
       "   'html': 'https://github.com/ironhack-datalabs/scavenger/tree/master/70985'}},\n",
       " {'name': '88596',\n",
       "  'path': '88596',\n",
       "  'sha': 'f294d2a0e55a4bab12625a7f709b44450a5e4648',\n",
       "  'size': 0,\n",
       "  'url': 'https://api.github.com/repos/ironhack-datalabs/scavenger/contents/88596?ref=master',\n",
       "  'html_url': 'https://github.com/ironhack-datalabs/scavenger/tree/master/88596',\n",
       "  'git_url': 'https://api.github.com/repos/ironhack-datalabs/scavenger/git/trees/f294d2a0e55a4bab12625a7f709b44450a5e4648',\n",
       "  'download_url': None,\n",
       "  'type': 'dir',\n",
       "  '_links': {'self': 'https://api.github.com/repos/ironhack-datalabs/scavenger/contents/88596?ref=master',\n",
       "   'git': 'https://api.github.com/repos/ironhack-datalabs/scavenger/git/trees/f294d2a0e55a4bab12625a7f709b44450a5e4648',\n",
       "   'html': 'https://github.com/ironhack-datalabs/scavenger/tree/master/88596'}},\n",
       " {'name': '89046',\n",
       "  'path': '89046',\n",
       "  'sha': '5f3ef5f14cf72bbe03a24b69777ba02f19a3adb5',\n",
       "  'size': 0,\n",
       "  'url': 'https://api.github.com/repos/ironhack-datalabs/scavenger/contents/89046?ref=master',\n",
       "  'html_url': 'https://github.com/ironhack-datalabs/scavenger/tree/master/89046',\n",
       "  'git_url': 'https://api.github.com/repos/ironhack-datalabs/scavenger/git/trees/5f3ef5f14cf72bbe03a24b69777ba02f19a3adb5',\n",
       "  'download_url': None,\n",
       "  'type': 'dir',\n",
       "  '_links': {'self': 'https://api.github.com/repos/ironhack-datalabs/scavenger/contents/89046?ref=master',\n",
       "   'git': 'https://api.github.com/repos/ironhack-datalabs/scavenger/git/trees/5f3ef5f14cf72bbe03a24b69777ba02f19a3adb5',\n",
       "   'html': 'https://github.com/ironhack-datalabs/scavenger/tree/master/89046'}},\n",
       " {'name': '89338',\n",
       "  'path': '89338',\n",
       "  'sha': '79c94a4032a927b2af52cc6da4ce27eb2abbf55e',\n",
       "  'size': 0,\n",
       "  'url': 'https://api.github.com/repos/ironhack-datalabs/scavenger/contents/89338?ref=master',\n",
       "  'html_url': 'https://github.com/ironhack-datalabs/scavenger/tree/master/89338',\n",
       "  'git_url': 'https://api.github.com/repos/ironhack-datalabs/scavenger/git/trees/79c94a4032a927b2af52cc6da4ce27eb2abbf55e',\n",
       "  'download_url': None,\n",
       "  'type': 'dir',\n",
       "  '_links': {'self': 'https://api.github.com/repos/ironhack-datalabs/scavenger/contents/89338?ref=master',\n",
       "   'git': 'https://api.github.com/repos/ironhack-datalabs/scavenger/git/trees/79c94a4032a927b2af52cc6da4ce27eb2abbf55e',\n",
       "   'html': 'https://github.com/ironhack-datalabs/scavenger/tree/master/89338'}},\n",
       " {'name': '91701',\n",
       "  'path': '91701',\n",
       "  'sha': '0ad19115f0b56c3cd10cb7e077140c201b527301',\n",
       "  'size': 0,\n",
       "  'url': 'https://api.github.com/repos/ironhack-datalabs/scavenger/contents/91701?ref=master',\n",
       "  'html_url': 'https://github.com/ironhack-datalabs/scavenger/tree/master/91701',\n",
       "  'git_url': 'https://api.github.com/repos/ironhack-datalabs/scavenger/git/trees/0ad19115f0b56c3cd10cb7e077140c201b527301',\n",
       "  'download_url': None,\n",
       "  'type': 'dir',\n",
       "  '_links': {'self': 'https://api.github.com/repos/ironhack-datalabs/scavenger/contents/91701?ref=master',\n",
       "   'git': 'https://api.github.com/repos/ironhack-datalabs/scavenger/git/trees/0ad19115f0b56c3cd10cb7e077140c201b527301',\n",
       "   'html': 'https://github.com/ironhack-datalabs/scavenger/tree/master/91701'}},\n",
       " {'name': '97881',\n",
       "  'path': '97881',\n",
       "  'sha': 'c369c43c17ec44cc3e66dd27f8e557f9d15d40f4',\n",
       "  'size': 0,\n",
       "  'url': 'https://api.github.com/repos/ironhack-datalabs/scavenger/contents/97881?ref=master',\n",
       "  'html_url': 'https://github.com/ironhack-datalabs/scavenger/tree/master/97881',\n",
       "  'git_url': 'https://api.github.com/repos/ironhack-datalabs/scavenger/git/trees/c369c43c17ec44cc3e66dd27f8e557f9d15d40f4',\n",
       "  'download_url': None,\n",
       "  'type': 'dir',\n",
       "  '_links': {'self': 'https://api.github.com/repos/ironhack-datalabs/scavenger/contents/97881?ref=master',\n",
       "   'git': 'https://api.github.com/repos/ironhack-datalabs/scavenger/git/trees/c369c43c17ec44cc3e66dd27f8e557f9d15d40f4',\n",
       "   'html': 'https://github.com/ironhack-datalabs/scavenger/tree/master/97881'}},\n",
       " {'name': '98750',\n",
       "  'path': '98750',\n",
       "  'sha': 'cdc23915e0a5179127458431986ba3750840a924',\n",
       "  'size': 0,\n",
       "  'url': 'https://api.github.com/repos/ironhack-datalabs/scavenger/contents/98750?ref=master',\n",
       "  'html_url': 'https://github.com/ironhack-datalabs/scavenger/tree/master/98750',\n",
       "  'git_url': 'https://api.github.com/repos/ironhack-datalabs/scavenger/git/trees/cdc23915e0a5179127458431986ba3750840a924',\n",
       "  'download_url': None,\n",
       "  'type': 'dir',\n",
       "  '_links': {'self': 'https://api.github.com/repos/ironhack-datalabs/scavenger/contents/98750?ref=master',\n",
       "   'git': 'https://api.github.com/repos/ironhack-datalabs/scavenger/git/trees/cdc23915e0a5179127458431986ba3750840a924',\n",
       "   'html': 'https://github.com/ironhack-datalabs/scavenger/tree/master/98750'}}]"
      ]
     },
     "execution_count": 57,
     "metadata": {},
     "output_type": "execute_result"
    }
   ],
   "source": [
    "url =  'https://api.github.com/repos/ironhack-datalabs/scavenger/contents'\n",
    "scav = requests.get(url, headers=parameters).json()\n",
    "scav"
   ]
  },
  {
   "cell_type": "code",
   "execution_count": 63,
   "id": "5555d8b3",
   "metadata": {},
   "outputs": [],
   "source": [
    "url =  'https://api.github.com/repos/ironhack-datalabs/scavenger/contents/17020'\n",
    "scav = requests.get(url, headers=parameters).json()\n",
    "scav"
   ]
  },
  {
   "cell_type": "code",
   "execution_count": 60,
   "id": "9d9b79e4",
   "metadata": {},
   "outputs": [],
   "source": [
    "url =  'https://api.github.com/repos/ironhack-datalabs/scavenger/contents/17020/.0007.scavengerhunt'\n",
    "scav = requests.get(url, headers=parameters).json()"
   ]
  },
  {
   "cell_type": "code",
   "execution_count": 62,
   "id": "bc267faf",
   "metadata": {},
   "outputs": [],
   "source": [
    "joke[6]=scav['content']"
   ]
  },
  {
   "cell_type": "code",
   "execution_count": 70,
   "id": "d61e1315",
   "metadata": {},
   "outputs": [],
   "source": [
    "url =  'https://api.github.com/repos/ironhack-datalabs/scavenger/contents/30351'\n",
    "scav = requests.get(url, headers=parameters).json()\n",
    "scav"
   ]
  },
  {
   "cell_type": "code",
   "execution_count": 69,
   "id": "b17b1f9a",
   "metadata": {},
   "outputs": [],
   "source": [
    "url =  'https://api.github.com/repos/ironhack-datalabs/scavenger/contents/30351/.0021.scavengerhunt'\n",
    "scav = requests.get(url, headers=parameters).json()\n",
    "joke[20]=scav['content']"
   ]
  },
  {
   "cell_type": "code",
   "execution_count": 72,
   "id": "c26b2169",
   "metadata": {},
   "outputs": [],
   "source": [
    "url =  'https://api.github.com/repos/ironhack-datalabs/scavenger/contents'\n",
    "scav = requests.get(url, headers=parameters).json()\n"
   ]
  },
  {
   "cell_type": "code",
   "execution_count": null,
   "id": "246bfbdd",
   "metadata": {},
   "outputs": [],
   "source": []
  },
  {
   "cell_type": "markdown",
   "id": "9044aa9e",
   "metadata": {},
   "source": [
    "##### Demasiado largo hacerlo a mano, funciones y bucles pues"
   ]
  },
  {
   "cell_type": "code",
   "execution_count": 73,
   "id": "8ed7d3e1",
   "metadata": {},
   "outputs": [],
   "source": [
    "url =  'https://api.github.com/repos/ironhack-datalabs/scavenger/contents'\n",
    "scav = requests.get(url, headers=parameters).json()"
   ]
  },
  {
   "cell_type": "code",
   "execution_count": 76,
   "id": "497fb0bd",
   "metadata": {},
   "outputs": [
    {
     "data": {
      "text/plain": [
       "'15024'"
      ]
     },
     "execution_count": 76,
     "metadata": {},
     "output_type": "execute_result"
    }
   ],
   "source": [
    "scav[1]['name']º"
   ]
  },
  {
   "cell_type": "code",
   "execution_count": 120,
   "id": "962dd23e",
   "metadata": {},
   "outputs": [
    {
     "data": {
      "text/plain": [
       "[{'name': '.0006.scavengerhunt',\n",
       "  'path': '15024/.0006.scavengerhunt',\n",
       "  'sha': '1c9064284a24b3486015eafdb391b141c27ada2b',\n",
       "  'size': 3,\n",
       "  'url': 'https://api.github.com/repos/ironhack-datalabs/scavenger/contents/15024/.0006.scavengerhunt?ref=master',\n",
       "  'html_url': 'https://github.com/ironhack-datalabs/scavenger/blob/master/15024/.0006.scavengerhunt',\n",
       "  'git_url': 'https://api.github.com/repos/ironhack-datalabs/scavenger/git/blobs/1c9064284a24b3486015eafdb391b141c27ada2b',\n",
       "  'download_url': 'https://raw.githubusercontent.com/ironhack-datalabs/scavenger/master/15024/.0006.scavengerhunt',\n",
       "  'type': 'file',\n",
       "  '_links': {'self': 'https://api.github.com/repos/ironhack-datalabs/scavenger/contents/15024/.0006.scavengerhunt?ref=master',\n",
       "   'git': 'https://api.github.com/repos/ironhack-datalabs/scavenger/git/blobs/1c9064284a24b3486015eafdb391b141c27ada2b',\n",
       "   'html': 'https://github.com/ironhack-datalabs/scavenger/blob/master/15024/.0006.scavengerhunt'}},\n",
       " {'name': '40',\n",
       "  'path': '15024/40',\n",
       "  'sha': 'e69de29bb2d1d6434b8b29ae775ad8c2e48c5391',\n",
       "  'size': 0,\n",
       "  'url': 'https://api.github.com/repos/ironhack-datalabs/scavenger/contents/15024/40?ref=master',\n",
       "  'html_url': 'https://github.com/ironhack-datalabs/scavenger/blob/master/15024/40',\n",
       "  'git_url': 'https://api.github.com/repos/ironhack-datalabs/scavenger/git/blobs/e69de29bb2d1d6434b8b29ae775ad8c2e48c5391',\n",
       "  'download_url': 'https://raw.githubusercontent.com/ironhack-datalabs/scavenger/master/15024/40',\n",
       "  'type': 'file',\n",
       "  '_links': {'self': 'https://api.github.com/repos/ironhack-datalabs/scavenger/contents/15024/40?ref=master',\n",
       "   'git': 'https://api.github.com/repos/ironhack-datalabs/scavenger/git/blobs/e69de29bb2d1d6434b8b29ae775ad8c2e48c5391',\n",
       "   'html': 'https://github.com/ironhack-datalabs/scavenger/blob/master/15024/40'}},\n",
       " {'name': '74',\n",
       "  'path': '15024/74',\n",
       "  'sha': 'e69de29bb2d1d6434b8b29ae775ad8c2e48c5391',\n",
       "  'size': 0,\n",
       "  'url': 'https://api.github.com/repos/ironhack-datalabs/scavenger/contents/15024/74?ref=master',\n",
       "  'html_url': 'https://github.com/ironhack-datalabs/scavenger/blob/master/15024/74',\n",
       "  'git_url': 'https://api.github.com/repos/ironhack-datalabs/scavenger/git/blobs/e69de29bb2d1d6434b8b29ae775ad8c2e48c5391',\n",
       "  'download_url': 'https://raw.githubusercontent.com/ironhack-datalabs/scavenger/master/15024/74',\n",
       "  'type': 'file',\n",
       "  '_links': {'self': 'https://api.github.com/repos/ironhack-datalabs/scavenger/contents/15024/74?ref=master',\n",
       "   'git': 'https://api.github.com/repos/ironhack-datalabs/scavenger/git/blobs/e69de29bb2d1d6434b8b29ae775ad8c2e48c5391',\n",
       "   'html': 'https://github.com/ironhack-datalabs/scavenger/blob/master/15024/74'}},\n",
       " {'name': '99',\n",
       "  'path': '15024/99',\n",
       "  'sha': 'e69de29bb2d1d6434b8b29ae775ad8c2e48c5391',\n",
       "  'size': 0,\n",
       "  'url': 'https://api.github.com/repos/ironhack-datalabs/scavenger/contents/15024/99?ref=master',\n",
       "  'html_url': 'https://github.com/ironhack-datalabs/scavenger/blob/master/15024/99',\n",
       "  'git_url': 'https://api.github.com/repos/ironhack-datalabs/scavenger/git/blobs/e69de29bb2d1d6434b8b29ae775ad8c2e48c5391',\n",
       "  'download_url': 'https://raw.githubusercontent.com/ironhack-datalabs/scavenger/master/15024/99',\n",
       "  'type': 'file',\n",
       "  '_links': {'self': 'https://api.github.com/repos/ironhack-datalabs/scavenger/contents/15024/99?ref=master',\n",
       "   'git': 'https://api.github.com/repos/ironhack-datalabs/scavenger/git/blobs/e69de29bb2d1d6434b8b29ae775ad8c2e48c5391',\n",
       "   'html': 'https://github.com/ironhack-datalabs/scavenger/blob/master/15024/99'}}]"
      ]
     },
     "execution_count": 120,
     "metadata": {},
     "output_type": "execute_result"
    }
   ],
   "source": [
    "url =  'https://api.github.com/repos/ironhack-datalabs/scavenger/contents/15024'\n",
    "scav = requests.get(url, headers=parameters).json()\n",
    "scav"
   ]
  },
  {
   "cell_type": "code",
   "execution_count": 122,
   "id": "e0ebb611",
   "metadata": {},
   "outputs": [
    {
     "data": {
      "text/plain": [
       "'https://api.github.com/repos/ironhack-datalabs/scavenger/contents/15024/.0006.scavengerhunt?ref=master'"
      ]
     },
     "execution_count": 122,
     "metadata": {},
     "output_type": "execute_result"
    }
   ],
   "source": [
    "scav[0]['url']"
   ]
  },
  {
   "cell_type": "code",
   "execution_count": null,
   "id": "32d04ddf",
   "metadata": {},
   "outputs": [],
   "source": []
  },
  {
   "cell_type": "code",
   "execution_count": null,
   "id": "cc0daf0c",
   "metadata": {},
   "outputs": [],
   "source": []
  },
  {
   "cell_type": "code",
   "execution_count": 85,
   "id": "eca112b8",
   "metadata": {},
   "outputs": [
    {
     "data": {
      "text/plain": [
       "'.0006.scavengerhunt'"
      ]
     },
     "execution_count": 85,
     "metadata": {},
     "output_type": "execute_result"
    }
   ],
   "source": [
    "scav[0]['name']"
   ]
  },
  {
   "cell_type": "code",
   "execution_count": 86,
   "id": "d519fb4c",
   "metadata": {},
   "outputs": [
    {
     "name": "stdout",
     "output_type": "stream",
     "text": [
      ".0006.scavengerhunt\n",
      "40\n",
      "74\n",
      "99\n"
     ]
    }
   ],
   "source": [
    "for i in scav:\n",
    "    print(i['name'])"
   ]
  },
  {
   "cell_type": "code",
   "execution_count": 81,
   "id": "ef6dd6a9",
   "metadata": {},
   "outputs": [],
   "source": [
    "carpetas = []\n",
    "for i in scav:\n",
    "    carpetas.append(i['name'])\n",
    "\n",
    "carpetas = carpetas[1:]   #para no contar el gitignore\n"
   ]
  },
  {
   "cell_type": "code",
   "execution_count": 131,
   "id": "dca1d894",
   "metadata": {},
   "outputs": [],
   "source": [
    "import re"
   ]
  },
  {
   "cell_type": "code",
   "execution_count": 137,
   "id": "31405a5f",
   "metadata": {},
   "outputs": [],
   "source": [
    "\n",
    "url =  'https://api.github.com/repos/ironhack-datalabs/scavenger/contents'\n",
    "tok = os.getenv(\"github\")\n",
    "parametros = {\"Authorization\": f\"token {tok}\"}\n",
    "urlscavs = []\n",
    "for carpeta in carpetas:\n",
    "    enlace = url+'/'+carpeta\n",
    "    hunt = requests.get(enlace, headers=parametros).json()\n",
    "    \n",
    "    for nombre in hunt:\n",
    "        \n",
    "        if re.match(r'.*scav.*scav.*',hunt[0]['url']):\n",
    "            urlscavs.append(hunt[0]['url'])\n",
    "           "
   ]
  },
  {
   "cell_type": "code",
   "execution_count": 140,
   "id": "dde8538c",
   "metadata": {},
   "outputs": [],
   "source": [
    "urldefinitivo=set(urlscavs)"
   ]
  },
  {
   "cell_type": "code",
   "execution_count": 143,
   "id": "4d46bb8e",
   "metadata": {},
   "outputs": [],
   "source": [
    "urldefinitivo=list(urldefinitivo)"
   ]
  },
  {
   "cell_type": "code",
   "execution_count": 144,
   "id": "f0006fef",
   "metadata": {},
   "outputs": [
    {
     "data": {
      "text/plain": [
       "['https://api.github.com/repos/ironhack-datalabs/scavenger/contents/45525/.0018.scavengerhunt?ref=master',\n",
       " 'https://api.github.com/repos/ironhack-datalabs/scavenger/contents/15534/.0008.scavengerhunt?ref=master',\n",
       " 'https://api.github.com/repos/ironhack-datalabs/scavenger/contents/55417/.0023.scavengerhunt?ref=master',\n",
       " 'https://api.github.com/repos/ironhack-datalabs/scavenger/contents/89338/.0013.scavengerhunt?ref=master',\n",
       " 'https://api.github.com/repos/ironhack-datalabs/scavenger/contents/44639/.0005.scavengerhunt?ref=master',\n",
       " 'https://api.github.com/repos/ironhack-datalabs/scavenger/contents/40303/.0022.scavengerhunt?ref=master',\n",
       " 'https://api.github.com/repos/ironhack-datalabs/scavenger/contents/30351/.0021.scavengerhunt?ref=master',\n",
       " 'https://api.github.com/repos/ironhack-datalabs/scavenger/contents/47830/.0010.scavengerhunt?ref=master',\n",
       " 'https://api.github.com/repos/ironhack-datalabs/scavenger/contents/49418/.0014.scavengerhunt?ref=master',\n",
       " 'https://api.github.com/repos/ironhack-datalabs/scavenger/contents/47222/.0016.scavengerhunt?ref=master',\n",
       " 'https://api.github.com/repos/ironhack-datalabs/scavenger/contents/98750/.0001.scavengerhunt?ref=master',\n",
       " 'https://api.github.com/repos/ironhack-datalabs/scavenger/contents/88596/.0002.scavengerhunt?ref=master',\n",
       " 'https://api.github.com/repos/ironhack-datalabs/scavenger/contents/91701/.0015.scavengerhunt?ref=master',\n",
       " 'https://api.github.com/repos/ironhack-datalabs/scavenger/contents/55685/.0020.scavengerhunt?ref=master',\n",
       " 'https://api.github.com/repos/ironhack-datalabs/scavenger/contents/97881/.0009.scavengerhunt?ref=master',\n",
       " 'https://api.github.com/repos/ironhack-datalabs/scavenger/contents/70751/.0019.scavengerhunt?ref=master',\n",
       " 'https://api.github.com/repos/ironhack-datalabs/scavenger/contents/50896/.0011.scavengerhunt?ref=master',\n",
       " 'https://api.github.com/repos/ironhack-datalabs/scavenger/contents/17020/.0007.scavengerhunt?ref=master',\n",
       " 'https://api.github.com/repos/ironhack-datalabs/scavenger/contents/15024/.0006.scavengerhunt?ref=master',\n",
       " 'https://api.github.com/repos/ironhack-datalabs/scavenger/contents/68848/.0004.scavengerhunt?ref=master',\n",
       " 'https://api.github.com/repos/ironhack-datalabs/scavenger/contents/70985/.0017.scavengerhunt?ref=master',\n",
       " 'https://api.github.com/repos/ironhack-datalabs/scavenger/contents/60224/.0003.scavengerhunt?ref=master']"
      ]
     },
     "execution_count": 144,
     "metadata": {},
     "output_type": "execute_result"
    }
   ],
   "source": [
    "urldefinitivo"
   ]
  },
  {
   "cell_type": "code",
   "execution_count": 156,
   "id": "cbcbdb8c",
   "metadata": {},
   "outputs": [
    {
     "name": "stdout",
     "output_type": "stream",
     "text": [
      "https://api.github.com/repos/ironhack-datalabs/scavenger/contents/45525/.0018.scavengerhunt?ref=master\n",
      "https://api.github.com/repos/ironhack-datalabs/scavenger/contents/15534/.0008.scavengerhunt?ref=master\n",
      "https://api.github.com/repos/ironhack-datalabs/scavenger/contents/55417/.0023.scavengerhunt?ref=master\n",
      "https://api.github.com/repos/ironhack-datalabs/scavenger/contents/89338/.0013.scavengerhunt?ref=master\n",
      "https://api.github.com/repos/ironhack-datalabs/scavenger/contents/44639/.0005.scavengerhunt?ref=master\n",
      "https://api.github.com/repos/ironhack-datalabs/scavenger/contents/40303/.0022.scavengerhunt?ref=master\n",
      "https://api.github.com/repos/ironhack-datalabs/scavenger/contents/30351/.0021.scavengerhunt?ref=master\n",
      "https://api.github.com/repos/ironhack-datalabs/scavenger/contents/47830/.0010.scavengerhunt?ref=master\n",
      "https://api.github.com/repos/ironhack-datalabs/scavenger/contents/49418/.0014.scavengerhunt?ref=master\n",
      "https://api.github.com/repos/ironhack-datalabs/scavenger/contents/47222/.0016.scavengerhunt?ref=master\n",
      "https://api.github.com/repos/ironhack-datalabs/scavenger/contents/98750/.0001.scavengerhunt?ref=master\n",
      "https://api.github.com/repos/ironhack-datalabs/scavenger/contents/88596/.0002.scavengerhunt?ref=master\n",
      "https://api.github.com/repos/ironhack-datalabs/scavenger/contents/91701/.0015.scavengerhunt?ref=master\n",
      "https://api.github.com/repos/ironhack-datalabs/scavenger/contents/55685/.0020.scavengerhunt?ref=master\n",
      "https://api.github.com/repos/ironhack-datalabs/scavenger/contents/97881/.0009.scavengerhunt?ref=master\n",
      "https://api.github.com/repos/ironhack-datalabs/scavenger/contents/70751/.0019.scavengerhunt?ref=master\n",
      "https://api.github.com/repos/ironhack-datalabs/scavenger/contents/50896/.0011.scavengerhunt?ref=master\n",
      "https://api.github.com/repos/ironhack-datalabs/scavenger/contents/17020/.0007.scavengerhunt?ref=master\n",
      "https://api.github.com/repos/ironhack-datalabs/scavenger/contents/15024/.0006.scavengerhunt?ref=master\n",
      "https://api.github.com/repos/ironhack-datalabs/scavenger/contents/68848/.0004.scavengerhunt?ref=master\n",
      "https://api.github.com/repos/ironhack-datalabs/scavenger/contents/70985/.0017.scavengerhunt?ref=master\n",
      "https://api.github.com/repos/ironhack-datalabs/scavenger/contents/60224/.0003.scavengerhunt?ref=master\n"
     ]
    }
   ],
   "source": [
    "listanueva = list(range(23))\n",
    "for i in urldefinitivo:\n",
    "    \n",
    "    if re.match(r'\\.0001\\.',i):\n",
    "        listanueva[0]=i\n",
    "        print(listanueva)\n",
    "    if re.match(r'\\.0002\\.',i):\n",
    "        listanueva[1]=i\n",
    "        print(listanueva)\n",
    "    if re.match(r'\\.0003\\.',i):\n",
    "        listanueva[2]=i\n",
    "        print(listanueva)\n",
    "    if re.match(r'\\.0004\\.',i):\n",
    "        listanueva[3]=i\n",
    "        print(listanueva)\n",
    "    if re.match(r'\\.0005\\.',i):\n",
    "        listanueva[4]=i\n",
    "        print(listanueva)\n",
    "    if re.match(r'\\.0006\\.',i):\n",
    "        listanueva[5]=i\n",
    "        print(listanueva)\n",
    "    if re.match(r'\\.0007\\.',i):\n",
    "        listanueva[6]=i\n",
    "        print(listanueva)\n",
    "    if re.match(r'\\.0008\\.',i):\n",
    "        listanueva[7]=i\n",
    "        print(listanueva)\n",
    "    if re.match(r'\\.0009\\.',i):\n",
    "        listanueva[8]=i\n",
    "        print(listanueva)\n",
    "    if re.match(r'\\.0010\\.',i):\n",
    "        listanueva[9]=i\n",
    "        print(listanueva)\n",
    "    if re.match(r'\\.0011\\.',i):\n",
    "        listanueva[10]=i\n",
    "        print(listanueva)\n",
    "    if re.match(r'\\.0012\\.',i):\n",
    "        listanueva[11]=i\n",
    "        print(listanueva)\n",
    "    if re.match(r'\\.0013\\.',i):\n",
    "        listanueva[12]=i\n",
    "        print(listanueva)\n",
    "    if re.match(r'\\.0014\\.',i):\n",
    "        listanueva[13]=i\n",
    "        print(listanueva)\n",
    "    if re.match(r'\\.0015\\.',i):\n",
    "        listanueva[14]=i\n",
    "        print(listanueva)\n",
    "    if re.match(r'\\.0016\\.',i):\n",
    "        listanueva[15]=i\n",
    "        print(listanueva)\n",
    "    if re.match(r'\\.0017\\.',i):\n",
    "        listanueva[16]=i\n",
    "        print(listanueva)\n",
    "    if re.match(r'\\.0018\\.',i):\n",
    "        listanueva[17]=i\n",
    "        print(listanueva)\n",
    "    if re.match(r'\\.0019\\.',i):\n",
    "        listanueva[18]=i\n",
    "        print(listanueva)\n",
    "    if re.match(r'\\.0020\\.',i):\n",
    "        listanueva[19]=i\n",
    "        print(listanueva)\n",
    "    if re.match(r'\\.0021\\.',i):\n",
    "        listanueva[20]=i\n",
    "        print(listanueva)\n",
    "    if re.match(r'\\.0022\\.',i):\n",
    "        listanueva[21]=i\n",
    "        print(listanueva)\n",
    "    if re.match(r'\\.0023\\.',i):\n",
    "        listanueva[22]=i\n",
    "        print(listanueva)\n",
    "    if re.match(r'\\.0024\\.',i):\n",
    "        listanueva[23]=i\n",
    "        print(listanueva)\n"
   ]
  },
  {
   "cell_type": "code",
   "execution_count": 157,
   "id": "52e2343d",
   "metadata": {},
   "outputs": [
    {
     "data": {
      "text/plain": [
       "22"
      ]
     },
     "execution_count": 157,
     "metadata": {},
     "output_type": "execute_result"
    }
   ],
   "source": [
    "len(urldefinitivo)"
   ]
  },
  {
   "cell_type": "code",
   "execution_count": null,
   "id": "bc83305b",
   "metadata": {},
   "outputs": [],
   "source": []
  },
  {
   "cell_type": "code",
   "execution_count": 104,
   "id": "d5a7b2dd",
   "metadata": {},
   "outputs": [
    {
     "data": {
      "text/plain": [
       "{'message': \"API rate limit exceeded for 2.136.118.159. (But here's the good news: Authenticated requests get a higher rate limit. Check out the documentation for more details.)\",\n",
       " 'documentation_url': 'https://docs.github.com/rest/overview/resources-in-the-rest-api#rate-limiting'}"
      ]
     },
     "execution_count": 104,
     "metadata": {},
     "output_type": "execute_result"
    }
   ],
   "source": [
    "hunt"
   ]
  },
  {
   "cell_type": "code",
   "execution_count": null,
   "id": "45414491",
   "metadata": {},
   "outputs": [],
   "source": []
  }
 ],
 "metadata": {
  "kernelspec": {
   "display_name": "Python 3 (ipykernel)",
   "language": "python",
   "name": "python3"
  },
  "language_info": {
   "codemirror_mode": {
    "name": "ipython",
    "version": 3
   },
   "file_extension": ".py",
   "mimetype": "text/x-python",
   "name": "python",
   "nbconvert_exporter": "python",
   "pygments_lexer": "ipython3",
   "version": "3.8.10"
  },
  "toc": {
   "base_numbering": 1,
   "nav_menu": {},
   "number_sections": true,
   "sideBar": true,
   "skip_h1_title": true,
   "title_cell": "Table of Contents",
   "title_sidebar": "Contents",
   "toc_cell": false,
   "toc_position": {},
   "toc_section_display": true,
   "toc_window_display": true
  }
 },
 "nbformat": 4,
 "nbformat_minor": 5
}
